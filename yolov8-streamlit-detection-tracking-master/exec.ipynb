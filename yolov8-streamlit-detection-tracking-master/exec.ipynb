{
 "cells": [
  {
   "cell_type": "code",
   "execution_count": 4,
   "id": "eb20211d-3c58-414a-859c-2ec96f79c61d",
   "metadata": {},
   "outputs": [
    {
     "name": "stdout",
     "output_type": "stream",
     "text": [
      "Requirement already satisfied: ultralytics in c:\\users\\usuario\\anaconda3\\envs\\datosvirtual\\lib\\site-packages (8.0.140)\n",
      "Requirement already satisfied: streamlit in c:\\users\\usuario\\anaconda3\\envs\\datosvirtual\\lib\\site-packages (1.25.0)\n",
      "Requirement already satisfied: pafy in c:\\users\\usuario\\anaconda3\\envs\\datosvirtual\\lib\\site-packages (0.5.5)\n",
      "Requirement already satisfied: tqdm>=4.64.0 in c:\\users\\usuario\\anaconda3\\envs\\datosvirtual\\lib\\site-packages (from ultralytics) (4.64.1)\n",
      "Requirement already satisfied: torch>=1.7.0 in c:\\users\\usuario\\anaconda3\\envs\\datosvirtual\\lib\\site-packages (from ultralytics) (2.0.1)\n",
      "Requirement already satisfied: requests>=2.23.0 in c:\\users\\usuario\\anaconda3\\envs\\datosvirtual\\lib\\site-packages (from ultralytics) (2.28.1)\n",
      "Requirement already satisfied: PyYAML>=5.3.1 in c:\\users\\usuario\\anaconda3\\envs\\datosvirtual\\lib\\site-packages (from ultralytics) (6.0.1)\n",
      "Requirement already satisfied: matplotlib>=3.2.2 in c:\\users\\usuario\\anaconda3\\envs\\datosvirtual\\lib\\site-packages (from ultralytics) (3.5.3)\n",
      "Requirement already satisfied: pandas>=1.1.4 in c:\\users\\usuario\\anaconda3\\envs\\datosvirtual\\lib\\site-packages (from ultralytics) (2.0.2)\n",
      "Requirement already satisfied: seaborn>=0.11.0 in c:\\users\\usuario\\anaconda3\\envs\\datosvirtual\\lib\\site-packages (from ultralytics) (0.12.1)\n",
      "Requirement already satisfied: opencv-python>=4.6.0 in c:\\users\\usuario\\anaconda3\\envs\\datosvirtual\\lib\\site-packages (from ultralytics) (4.8.0.74)\n",
      "Requirement already satisfied: torchvision>=0.8.1 in c:\\users\\usuario\\anaconda3\\envs\\datosvirtual\\lib\\site-packages (from ultralytics) (0.15.2)\n",
      "Requirement already satisfied: psutil in c:\\users\\usuario\\anaconda3\\envs\\datosvirtual\\lib\\site-packages (from ultralytics) (5.9.0)\n",
      "Requirement already satisfied: Pillow>=7.1.2 in c:\\users\\usuario\\anaconda3\\envs\\datosvirtual\\lib\\site-packages (from ultralytics) (9.2.0)\n",
      "Requirement already satisfied: scipy>=1.4.1 in c:\\users\\usuario\\anaconda3\\envs\\datosvirtual\\lib\\site-packages (from ultralytics) (1.9.3)\n",
      "Requirement already satisfied: typing-extensions<5,>=4.1.0 in c:\\users\\usuario\\anaconda3\\envs\\datosvirtual\\lib\\site-packages (from streamlit) (4.3.0)\n",
      "Requirement already satisfied: toml<2,>=0.10.1 in c:\\users\\usuario\\anaconda3\\envs\\datosvirtual\\lib\\site-packages (from streamlit) (0.10.2)\n",
      "Requirement already satisfied: tzlocal<5,>=1.1 in c:\\users\\usuario\\anaconda3\\envs\\datosvirtual\\lib\\site-packages (from streamlit) (4.3.1)\n",
      "Requirement already satisfied: tornado<7,>=6.0.3 in c:\\users\\usuario\\anaconda3\\envs\\datosvirtual\\lib\\site-packages (from streamlit) (6.2)\n",
      "Requirement already satisfied: protobuf<5,>=3.20 in c:\\users\\usuario\\anaconda3\\envs\\datosvirtual\\lib\\site-packages (from streamlit) (4.23.4)\n",
      "Requirement already satisfied: pydeck<1,>=0.8 in c:\\users\\usuario\\anaconda3\\envs\\datosvirtual\\lib\\site-packages (from streamlit) (0.8.0)\n",
      "Requirement already satisfied: watchdog>=2.1.5 in c:\\users\\usuario\\anaconda3\\envs\\datosvirtual\\lib\\site-packages (from streamlit) (3.0.0)\n",
      "Requirement already satisfied: pympler<2,>=0.9 in c:\\users\\usuario\\anaconda3\\envs\\datosvirtual\\lib\\site-packages (from streamlit) (1.0.1)\n",
      "Requirement already satisfied: packaging<24,>=16.8 in c:\\users\\usuario\\anaconda3\\envs\\datosvirtual\\lib\\site-packages (from streamlit) (21.3)\n",
      "Requirement already satisfied: tenacity<9,>=8.1.0 in c:\\users\\usuario\\anaconda3\\envs\\datosvirtual\\lib\\site-packages (from streamlit) (8.2.2)\n",
      "Requirement already satisfied: importlib-metadata<7,>=1.4 in c:\\users\\usuario\\anaconda3\\envs\\datosvirtual\\lib\\site-packages (from streamlit) (6.6.0)\n",
      "Requirement already satisfied: gitpython!=3.1.19,<4,>=3.0.7 in c:\\users\\usuario\\anaconda3\\envs\\datosvirtual\\lib\\site-packages (from streamlit) (3.1.32)\n",
      "Requirement already satisfied: validators<1,>=0.2 in c:\\users\\usuario\\anaconda3\\envs\\datosvirtual\\lib\\site-packages (from streamlit) (0.20.0)\n",
      "Requirement already satisfied: rich<14,>=10.14.0 in c:\\users\\usuario\\anaconda3\\envs\\datosvirtual\\lib\\site-packages (from streamlit) (13.4.2)\n",
      "Requirement already satisfied: cachetools<6,>=4.0 in c:\\users\\usuario\\anaconda3\\envs\\datosvirtual\\lib\\site-packages (from streamlit) (5.3.1)\n",
      "Requirement already satisfied: numpy<2,>=1.19.3 in c:\\users\\usuario\\anaconda3\\envs\\datosvirtual\\lib\\site-packages (from streamlit) (1.23.4)\n",
      "Requirement already satisfied: blinker<2,>=1.0.0 in c:\\users\\usuario\\anaconda3\\envs\\datosvirtual\\lib\\site-packages (from streamlit) (1.6.2)\n",
      "Requirement already satisfied: pyarrow>=6.0 in c:\\users\\usuario\\anaconda3\\envs\\datosvirtual\\lib\\site-packages (from streamlit) (12.0.1)\n",
      "Requirement already satisfied: python-dateutil<3,>=2.7.3 in c:\\users\\usuario\\anaconda3\\envs\\datosvirtual\\lib\\site-packages (from streamlit) (2.8.2)\n",
      "Requirement already satisfied: click<9,>=7.0 in c:\\users\\usuario\\anaconda3\\envs\\datosvirtual\\lib\\site-packages (from streamlit) (8.0.4)\n",
      "Requirement already satisfied: altair<6,>=4.0 in c:\\users\\usuario\\anaconda3\\envs\\datosvirtual\\lib\\site-packages (from streamlit) (5.0.1)\n",
      "Requirement already satisfied: jsonschema>=3.0 in c:\\users\\usuario\\anaconda3\\envs\\datosvirtual\\lib\\site-packages (from altair<6,>=4.0->streamlit) (4.16.0)\n",
      "Requirement already satisfied: jinja2 in c:\\users\\usuario\\anaconda3\\envs\\datosvirtual\\lib\\site-packages (from altair<6,>=4.0->streamlit) (3.1.2)\n",
      "Requirement already satisfied: toolz in c:\\users\\usuario\\anaconda3\\envs\\datosvirtual\\lib\\site-packages (from altair<6,>=4.0->streamlit) (0.12.0)\n",
      "Requirement already satisfied: colorama in c:\\users\\usuario\\anaconda3\\envs\\datosvirtual\\lib\\site-packages (from click<9,>=7.0->streamlit) (0.4.5)\n",
      "Requirement already satisfied: gitdb<5,>=4.0.1 in c:\\users\\usuario\\anaconda3\\envs\\datosvirtual\\lib\\site-packages (from gitpython!=3.1.19,<4,>=3.0.7->streamlit) (4.0.10)\n",
      "Requirement already satisfied: zipp>=0.5 in c:\\users\\usuario\\anaconda3\\envs\\datosvirtual\\lib\\site-packages (from importlib-metadata<7,>=1.4->streamlit) (3.15.0)\n",
      "Requirement already satisfied: kiwisolver>=1.0.1 in c:\\users\\usuario\\anaconda3\\envs\\datosvirtual\\lib\\site-packages (from matplotlib>=3.2.2->ultralytics) (1.4.2)\n",
      "Requirement already satisfied: cycler>=0.10 in c:\\users\\usuario\\anaconda3\\envs\\datosvirtual\\lib\\site-packages (from matplotlib>=3.2.2->ultralytics) (0.10.0)\n",
      "Requirement already satisfied: pyparsing>=2.2.1 in c:\\users\\usuario\\anaconda3\\envs\\datosvirtual\\lib\\site-packages (from matplotlib>=3.2.2->ultralytics) (2.4.7)\n",
      "Requirement already satisfied: fonttools>=4.22.0 in c:\\users\\usuario\\anaconda3\\envs\\datosvirtual\\lib\\site-packages (from matplotlib>=3.2.2->ultralytics) (4.25.0)\n",
      "Requirement already satisfied: tzdata>=2022.1 in c:\\users\\usuario\\anaconda3\\envs\\datosvirtual\\lib\\site-packages (from pandas>=1.1.4->ultralytics) (2023.3)\n",
      "Requirement already satisfied: pytz>=2020.1 in c:\\users\\usuario\\anaconda3\\envs\\datosvirtual\\lib\\site-packages (from pandas>=1.1.4->ultralytics) (2022.1)\n",
      "Requirement already satisfied: six>=1.5 in c:\\users\\usuario\\anaconda3\\envs\\datosvirtual\\lib\\site-packages (from python-dateutil<3,>=2.7.3->streamlit) (1.16.0)\n",
      "Requirement already satisfied: idna<4,>=2.5 in c:\\users\\usuario\\anaconda3\\envs\\datosvirtual\\lib\\site-packages (from requests>=2.23.0->ultralytics) (2.10)\n",
      "Requirement already satisfied: charset-normalizer<3,>=2 in c:\\users\\usuario\\anaconda3\\envs\\datosvirtual\\lib\\site-packages (from requests>=2.23.0->ultralytics) (2.1.1)\n",
      "Requirement already satisfied: certifi>=2017.4.17 in c:\\users\\usuario\\anaconda3\\envs\\datosvirtual\\lib\\site-packages (from requests>=2.23.0->ultralytics) (2022.12.7)\n",
      "Requirement already satisfied: urllib3<1.27,>=1.21.1 in c:\\users\\usuario\\anaconda3\\envs\\datosvirtual\\lib\\site-packages (from requests>=2.23.0->ultralytics) (1.26.13)\n",
      "Requirement already satisfied: markdown-it-py>=2.2.0 in c:\\users\\usuario\\anaconda3\\envs\\datosvirtual\\lib\\site-packages (from rich<14,>=10.14.0->streamlit) (3.0.0)\n",
      "Requirement already satisfied: pygments<3.0.0,>=2.13.0 in c:\\users\\usuario\\anaconda3\\envs\\datosvirtual\\lib\\site-packages (from rich<14,>=10.14.0->streamlit) (2.15.1)\n",
      "Requirement already satisfied: filelock in c:\\users\\usuario\\anaconda3\\envs\\datosvirtual\\lib\\site-packages (from torch>=1.7.0->ultralytics) (3.12.2)\n",
      "Requirement already satisfied: sympy in c:\\users\\usuario\\anaconda3\\envs\\datosvirtual\\lib\\site-packages (from torch>=1.7.0->ultralytics) (1.11.1)\n",
      "Requirement already satisfied: networkx in c:\\users\\usuario\\anaconda3\\envs\\datosvirtual\\lib\\site-packages (from torch>=1.7.0->ultralytics) (2.8.8)\n",
      "Requirement already satisfied: pytz-deprecation-shim in c:\\users\\usuario\\anaconda3\\envs\\datosvirtual\\lib\\site-packages (from tzlocal<5,>=1.1->streamlit) (0.1.0.post0)\n",
      "Requirement already satisfied: decorator>=3.4.0 in c:\\users\\usuario\\anaconda3\\envs\\datosvirtual\\lib\\site-packages (from validators<1,>=0.2->streamlit) (5.1.1)\n",
      "Requirement already satisfied: smmap<6,>=3.0.1 in c:\\users\\usuario\\anaconda3\\envs\\datosvirtual\\lib\\site-packages (from gitdb<5,>=4.0.1->gitpython!=3.1.19,<4,>=3.0.7->streamlit) (5.0.0)\n",
      "Requirement already satisfied: MarkupSafe>=2.0 in c:\\users\\usuario\\anaconda3\\envs\\datosvirtual\\lib\\site-packages (from jinja2->altair<6,>=4.0->streamlit) (2.1.1)\n",
      "Requirement already satisfied: attrs>=17.4.0 in c:\\users\\usuario\\anaconda3\\envs\\datosvirtual\\lib\\site-packages (from jsonschema>=3.0->altair<6,>=4.0->streamlit) (22.1.0)\n",
      "Requirement already satisfied: pyrsistent!=0.17.0,!=0.17.1,!=0.17.2,>=0.14.0 in c:\\users\\usuario\\anaconda3\\envs\\datosvirtual\\lib\\site-packages (from jsonschema>=3.0->altair<6,>=4.0->streamlit) (0.18.0)\n",
      "Requirement already satisfied: mdurl~=0.1 in c:\\users\\usuario\\anaconda3\\envs\\datosvirtual\\lib\\site-packages (from markdown-it-py>=2.2.0->rich<14,>=10.14.0->streamlit) (0.1.2)\n",
      "Requirement already satisfied: mpmath>=0.19 in c:\\users\\usuario\\anaconda3\\envs\\datosvirtual\\lib\\site-packages (from sympy->torch>=1.7.0->ultralytics) (1.3.0)\n"
     ]
    }
   ],
   "source": [
    "!pip install ultralytics streamlit pafy"
   ]
  },
  {
   "cell_type": "code",
   "execution_count": 5,
   "id": "758591bd-5541-403a-b295-20675b531aee",
   "metadata": {},
   "outputs": [],
   "source": [
    "import streamlit as st\n"
   ]
  },
  {
   "cell_type": "code",
   "execution_count": 16,
   "id": "710f834e-9e43-4af3-844e-d288d280d14a",
   "metadata": {},
   "outputs": [
    {
     "name": "stdout",
     "output_type": "stream",
     "text": [
      "C:\\Users\\USUARIO\\Documents\\VYEPEZ\\PERSONAL\\MAESTRIA\\DEEP LEARNING\\yolov8-streamlit-detection-tracking-master\n"
     ]
    }
   ],
   "source": [
    "cd \"C:\\Users\\USUARIO\\Documents\\VYEPEZ\\PERSONAL\\MAESTRIA\\DEEP LEARNING\\yolov8-streamlit-detection-tracking-master\"\n"
   ]
  },
  {
   "cell_type": "code",
   "execution_count": 17,
   "id": "afa92cc5-e9f0-4637-b0f5-114d69171e59",
   "metadata": {},
   "outputs": [
    {
     "name": "stdout",
     "output_type": "stream",
     "text": [
      " El volumen de la unidad C es Windows\n",
      " El número de serie del volumen es: 742A-4AC8\n",
      "\n",
      " Directorio de C:\\Users\\USUARIO\\Documents\\VYEPEZ\\PERSONAL\\MAESTRIA\\DEEP LEARNING\\yolov8-streamlit-detection-tracking-master\n",
      "\n",
      "24/07/2023  08:39    <DIR>          .\n",
      "24/07/2023  08:39    <DIR>          ..\n",
      "10/05/2023  10:04             1.925 .gitignore\n",
      "23/07/2023  00:04    <DIR>          .ipynb_checkpoints\n",
      "10/05/2023  10:04             3.445 app.py\n",
      "10/05/2023  10:04    <DIR>          assets\n",
      "10/05/2023  10:04             7.421 helper.py\n",
      "23/07/2023  00:03    <DIR>          images\n",
      "10/05/2023  10:04             4.236 README.md\n",
      "10/05/2023  10:04             1.343 settings.py\n",
      "24/07/2023  08:39            13.328 Untitled.ipynb\n",
      "               6 archivos         31.698 bytes\n",
      "               5 dirs  20.649.844.736 bytes libres\n"
     ]
    }
   ],
   "source": [
    "ls"
   ]
  },
  {
   "cell_type": "code",
   "execution_count": null,
   "id": "0cf74cf5-2cf1-4ba1-b2d2-5d7b9c5acddb",
   "metadata": {},
   "outputs": [],
   "source": [
    "streamlit run app.py"
   ]
  }
 ],
 "metadata": {
  "kernelspec": {
   "display_name": "Python 3 (ipykernel)",
   "language": "python",
   "name": "python3"
  },
  "language_info": {
   "codemirror_mode": {
    "name": "ipython",
    "version": 3
   },
   "file_extension": ".py",
   "mimetype": "text/x-python",
   "name": "python",
   "nbconvert_exporter": "python",
   "pygments_lexer": "ipython3",
   "version": "3.10.8"
  }
 },
 "nbformat": 4,
 "nbformat_minor": 5
}
